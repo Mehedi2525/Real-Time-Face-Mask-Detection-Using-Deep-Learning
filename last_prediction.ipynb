{
 "cells": [
  {
   "cell_type": "code",
   "execution_count": 1,
   "id": "13e87ecb",
   "metadata": {},
   "outputs": [],
   "source": [
    "import cv2\n",
    "import numpy as np\n",
    "import tensorflow as tf\n"
   ]
  },
  {
   "cell_type": "code",
   "execution_count": null,
   "id": "60b3afb8",
   "metadata": {},
   "outputs": [],
   "source": [
    "from scipy.special import softmax"
   ]
  },
  {
   "cell_type": "code",
   "execution_count": null,
   "id": "e09fa006",
   "metadata": {},
   "outputs": [],
   "source": [
    "# Load the pre-trained face detection model\n",
    "face_detection_model = cv2.dnn.readNetFromCaffe('./models/deploy.prototxt.txt',\n",
    "                                                './models/res10_300x300_ssd_iter_140000_fp16.caffemodel')\n",
    "\n",
    "# Load the pre-trained face mask classification model\n",
    "model = tf.keras.models.load_model('face_cnn_model/')\n"
   ]
  },
  {
   "cell_type": "code",
   "execution_count": null,
   "id": "c1b4c013",
   "metadata": {},
   "outputs": [],
   "source": [
    "#label\n",
    "labels = ['Mask', 'No Mask', 'Covered Mouth Chin', 'Covered Nose Mouth']\n",
    "\n",
    "def getColor(label):\n",
    "    if label == \"Mask\":\n",
    "        color = (0,255,0)\n",
    "    \n",
    "    elif label == 'No Mask':\n",
    "        color = (0,0,255)\n",
    "    elif label == 'Covered Mouth Chin':\n",
    "        color = (0,255,255)\n",
    "    else:\n",
    "        color = (255,255,0)\n",
    "        \n",
    "    return color   "
   ]
  },
  {
   "cell_type": "code",
   "execution_count": null,
   "id": "5b69caa1",
   "metadata": {},
   "outputs": [],
   "source": [
    "getColor('Covered Mouth Chin')"
   ]
  },
  {
   "cell_type": "code",
   "execution_count": null,
   "id": "94f292d5",
   "metadata": {},
   "outputs": [],
   "source": [
    "\n",
    "\n",
    "def face_mask_prediction(img):\n",
    "    #step - 1 : Face detection\n",
    "    image = img.copy()\n",
    "    h, w = image.shape[:2]\n",
    "    blob = cv2.dnn.blobFromImage(image,1,(300,300),(104,117,123),swapRB=True)\n",
    "\n",
    "    face_detection_model.setInput(blob)\n",
    "    detection = face_detection_model.forward()\n",
    "    for i in range(0, detection.shape[2]):\n",
    "        confidence = detection[0,0,i,2]\n",
    "        if confidence > 0.5:\n",
    "            box = detection[0,0,i,3:7]*np.array([w,h,w,h])\n",
    "            box = box.astype(int)\n",
    "            pt1 = (box[0], box[1])\n",
    "            pt2 = (box[2], box[3])\n",
    "            \n",
    "            #step -2 : Data preprocessing\n",
    "            face = image[box[1]:box[3],box[0]:box[2]]\n",
    "            face_blob = cv2.dnn.blobFromImage(face,1,(100,100),(104,117,123),swapRB=True)\n",
    "            face_blob_squeeze = np.squeeze(face_blob).T\n",
    "            face_blob_rotate = cv2.rotate(face_blob_squeeze,cv2.ROTATE_90_CLOCKWISE)\n",
    "            face_blob_flip = cv2.flip(face_blob_rotate,1)\n",
    "            #normalization\n",
    "            img_norm = np.maximum(face_blob_flip,0)/face_blob_flip.max()\n",
    "            #step -3 : Deep Learning (CNN )\n",
    "            img_input = img_norm.reshape(1,100,100,3)\n",
    "            result = model.predict(img_input)\n",
    "            result = softmax(result)[0]\n",
    "            confidence_index = result.argmax()\n",
    "            confidence_score = result[confidence_index]\n",
    "            label = labels[confidence_index]\n",
    "            label_text = '{}: {:.2f} %'.format(label, confidence_score*100)\n",
    "            #label_text = '{}: {:,.of} %'.format(label,confidence_score*100)\n",
    "            #print(label_text)\n",
    "            #color\n",
    "            color = getColor(label)\n",
    "            cv2.rectangle(image,pt1,pt2,color,1)\n",
    "            cv2.putText(image,label_text,pt1,cv2.FONT_HERSHEY_PLAIN,2,color,2)\n",
    "        \n",
    "    return image\n"
   ]
  },
  {
   "cell_type": "code",
   "execution_count": null,
   "id": "5bc1a9ff",
   "metadata": {},
   "outputs": [],
   "source": [
    "\n",
    "# recognition code\n",
    "img = cv2.imread('./women-wearing-mask.jpg')\n",
    "\n",
    "image = face_mask_prediction(img) \n",
    "\n",
    "\n",
    "cv2.imshow('predictions',image) \n",
    "cv2.waitKey() \n",
    "cv2.destroyAllWindows()\n"
   ]
  },
  {
   "cell_type": "code",
   "execution_count": null,
   "id": "9bad56d5",
   "metadata": {},
   "outputs": [],
   "source": [
    "import cv2\n",
    "cap = cv2.VideoCapture(0)\n",
    "\n",
    "while True:\n",
    "    ret, frames = cap.read()\n",
    "    if ret == False:\n",
    "        break\n",
    "        \n",
    "    image = face_mask_prediction(frames)\n",
    "    cv2.imshow('Face Mask Prediction',image)\n",
    "    if cv2.waitKey(1) == 27:\n",
    "        break\n",
    "        \n",
    "cap.release()\n",
    "cv2.destroyAlWindows()"
   ]
  },
  {
   "cell_type": "code",
   "execution_count": null,
   "id": "0f6a8207",
   "metadata": {},
   "outputs": [],
   "source": []
  },
  {
   "cell_type": "code",
   "execution_count": null,
   "id": "47f225e1",
   "metadata": {},
   "outputs": [],
   "source": []
  },
  {
   "cell_type": "code",
   "execution_count": null,
   "id": "90e98f97",
   "metadata": {},
   "outputs": [],
   "source": []
  }
 ],
 "metadata": {
  "kernelspec": {
   "display_name": "Python 3 (ipykernel)",
   "language": "python",
   "name": "python3"
  },
  "language_info": {
   "codemirror_mode": {
    "name": "ipython",
    "version": 3
   },
   "file_extension": ".py",
   "mimetype": "text/x-python",
   "name": "python",
   "nbconvert_exporter": "python",
   "pygments_lexer": "ipython3",
   "version": "3.10.11"
  }
 },
 "nbformat": 4,
 "nbformat_minor": 5
}
